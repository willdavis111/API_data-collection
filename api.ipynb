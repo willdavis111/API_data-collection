{
 "cells": [
  {
   "cell_type": "code",
   "execution_count": 1,
   "id": "c2871bc8",
   "metadata": {},
   "outputs": [],
   "source": [
    "import pandas as pd\n",
    "import requests"
   ]
  },
  {
   "cell_type": "code",
   "execution_count": 30,
   "id": "714df030",
   "metadata": {},
   "outputs": [],
   "source": [
    "# Gathers data from the NOAA API\n",
    "url = 'https://www.ncei.noaa.gov/cdo-web/api/v2/datasets'\n",
    "url2 = 'https://www.ncei.noaa.gov/cdo-web/api/v2/data?datasetid=GSOM&stationid=GHCND:USC00010008&units=standard&startdate=2010-05-01&enddate=2010-05-31'\n",
    "headers = {'token': 'OHqqZfEfaaGAodhNRWdPNEiSIMDQIPfD'}\n",
    "request = requests.get(url, headers=headers)\n",
    "json = request.json()"
   ]
  },
  {
   "cell_type": "code",
   "execution_count": 33,
   "id": "f6fca895",
   "metadata": {},
   "outputs": [],
   "source": [
    "datasets = [x['name'] for x in json['results']]"
   ]
  },
  {
   "cell_type": "code",
   "execution_count": 34,
   "id": "9b3f6d2c",
   "metadata": {},
   "outputs": [
    {
     "name": "stdout",
     "output_type": "stream",
     "text": [
      "['Daily Summaries', 'Global Summary of the Month', 'Global Summary of the Year', 'Weather Radar (Level II)', 'Weather Radar (Level III)', 'Normals Annual/Seasonal', 'Normals Daily', 'Normals Hourly', 'Normals Monthly', 'Precipitation 15 Minute', 'Precipitation Hourly']\n"
     ]
    }
   ],
   "source": [
    "print(datasets)"
   ]
  },
  {
   "cell_type": "code",
   "execution_count": 18,
   "id": "5d9f78f8",
   "metadata": {},
   "outputs": [],
   "source": [
    "import json"
   ]
  },
  {
   "cell_type": "code",
   "execution_count": 28,
   "id": "a41324d5",
   "metadata": {},
   "outputs": [],
   "source": [
    "# data = json.loads(json)\n",
    "df = pd.DataFrame.from_records(json['results'])"
   ]
  },
  {
   "cell_type": "code",
   "execution_count": 29,
   "id": "ad591e84",
   "metadata": {},
   "outputs": [
    {
     "data": {
      "text/html": [
       "<div>\n",
       "<style scoped>\n",
       "    .dataframe tbody tr th:only-of-type {\n",
       "        vertical-align: middle;\n",
       "    }\n",
       "\n",
       "    .dataframe tbody tr th {\n",
       "        vertical-align: top;\n",
       "    }\n",
       "\n",
       "    .dataframe thead th {\n",
       "        text-align: right;\n",
       "    }\n",
       "</style>\n",
       "<table border=\"1\" class=\"dataframe\">\n",
       "  <thead>\n",
       "    <tr style=\"text-align: right;\">\n",
       "      <th></th>\n",
       "      <th>date</th>\n",
       "      <th>datatype</th>\n",
       "      <th>station</th>\n",
       "      <th>attributes</th>\n",
       "      <th>value</th>\n",
       "    </tr>\n",
       "  </thead>\n",
       "  <tbody>\n",
       "    <tr>\n",
       "      <th>0</th>\n",
       "      <td>2010-05-01T00:00:00</td>\n",
       "      <td>DP01</td>\n",
       "      <td>GHCND:USC00010008</td>\n",
       "      <td>,0</td>\n",
       "      <td>4.0</td>\n",
       "    </tr>\n",
       "    <tr>\n",
       "      <th>1</th>\n",
       "      <td>2010-05-01T00:00:00</td>\n",
       "      <td>DP10</td>\n",
       "      <td>GHCND:USC00010008</td>\n",
       "      <td>,0</td>\n",
       "      <td>4.0</td>\n",
       "    </tr>\n",
       "    <tr>\n",
       "      <th>2</th>\n",
       "      <td>2010-05-01T00:00:00</td>\n",
       "      <td>DP1X</td>\n",
       "      <td>GHCND:USC00010008</td>\n",
       "      <td>,0</td>\n",
       "      <td>2.0</td>\n",
       "    </tr>\n",
       "    <tr>\n",
       "      <th>3</th>\n",
       "      <td>2010-05-01T00:00:00</td>\n",
       "      <td>DSND</td>\n",
       "      <td>GHCND:USC00010008</td>\n",
       "      <td>,0</td>\n",
       "      <td>0.0</td>\n",
       "    </tr>\n",
       "    <tr>\n",
       "      <th>4</th>\n",
       "      <td>2010-05-01T00:00:00</td>\n",
       "      <td>DSNW</td>\n",
       "      <td>GHCND:USC00010008</td>\n",
       "      <td>,0</td>\n",
       "      <td>0.0</td>\n",
       "    </tr>\n",
       "    <tr>\n",
       "      <th>5</th>\n",
       "      <td>2010-05-01T00:00:00</td>\n",
       "      <td>DYSD</td>\n",
       "      <td>GHCND:USC00010008</td>\n",
       "      <td>+,,0</td>\n",
       "      <td>20100531.0</td>\n",
       "    </tr>\n",
       "    <tr>\n",
       "      <th>6</th>\n",
       "      <td>2010-05-01T00:00:00</td>\n",
       "      <td>DYSN</td>\n",
       "      <td>GHCND:USC00010008</td>\n",
       "      <td>+,,0</td>\n",
       "      <td>20100531.0</td>\n",
       "    </tr>\n",
       "    <tr>\n",
       "      <th>7</th>\n",
       "      <td>2010-05-01T00:00:00</td>\n",
       "      <td>DYXP</td>\n",
       "      <td>GHCND:USC00010008</td>\n",
       "      <td>,,0</td>\n",
       "      <td>20100504.0</td>\n",
       "    </tr>\n",
       "    <tr>\n",
       "      <th>8</th>\n",
       "      <td>2010-05-01T00:00:00</td>\n",
       "      <td>EMSD</td>\n",
       "      <td>GHCND:USC00010008</td>\n",
       "      <td>,,0,31,+</td>\n",
       "      <td>0.0</td>\n",
       "    </tr>\n",
       "    <tr>\n",
       "      <th>9</th>\n",
       "      <td>2010-05-01T00:00:00</td>\n",
       "      <td>EMSN</td>\n",
       "      <td>GHCND:USC00010008</td>\n",
       "      <td>,,0,31,+</td>\n",
       "      <td>0.0</td>\n",
       "    </tr>\n",
       "    <tr>\n",
       "      <th>10</th>\n",
       "      <td>2010-05-01T00:00:00</td>\n",
       "      <td>EMXP</td>\n",
       "      <td>GHCND:USC00010008</td>\n",
       "      <td>,,0,04,</td>\n",
       "      <td>4.0</td>\n",
       "    </tr>\n",
       "    <tr>\n",
       "      <th>11</th>\n",
       "      <td>2010-05-01T00:00:00</td>\n",
       "      <td>PRCP</td>\n",
       "      <td>GHCND:USC00010008</td>\n",
       "      <td>,,,0</td>\n",
       "      <td>6.6</td>\n",
       "    </tr>\n",
       "    <tr>\n",
       "      <th>12</th>\n",
       "      <td>2010-05-01T00:00:00</td>\n",
       "      <td>SNOW</td>\n",
       "      <td>GHCND:USC00010008</td>\n",
       "      <td>,,,0</td>\n",
       "      <td>0.0</td>\n",
       "    </tr>\n",
       "  </tbody>\n",
       "</table>\n",
       "</div>"
      ],
      "text/plain": [
       "                   date datatype            station attributes       value\n",
       "0   2010-05-01T00:00:00     DP01  GHCND:USC00010008         ,0         4.0\n",
       "1   2010-05-01T00:00:00     DP10  GHCND:USC00010008         ,0         4.0\n",
       "2   2010-05-01T00:00:00     DP1X  GHCND:USC00010008         ,0         2.0\n",
       "3   2010-05-01T00:00:00     DSND  GHCND:USC00010008         ,0         0.0\n",
       "4   2010-05-01T00:00:00     DSNW  GHCND:USC00010008         ,0         0.0\n",
       "5   2010-05-01T00:00:00     DYSD  GHCND:USC00010008       +,,0  20100531.0\n",
       "6   2010-05-01T00:00:00     DYSN  GHCND:USC00010008       +,,0  20100531.0\n",
       "7   2010-05-01T00:00:00     DYXP  GHCND:USC00010008        ,,0  20100504.0\n",
       "8   2010-05-01T00:00:00     EMSD  GHCND:USC00010008   ,,0,31,+         0.0\n",
       "9   2010-05-01T00:00:00     EMSN  GHCND:USC00010008   ,,0,31,+         0.0\n",
       "10  2010-05-01T00:00:00     EMXP  GHCND:USC00010008    ,,0,04,         4.0\n",
       "11  2010-05-01T00:00:00     PRCP  GHCND:USC00010008       ,,,0         6.6\n",
       "12  2010-05-01T00:00:00     SNOW  GHCND:USC00010008       ,,,0         0.0"
      ]
     },
     "execution_count": 29,
     "metadata": {},
     "output_type": "execute_result"
    }
   ],
   "source": [
    "df"
   ]
  },
  {
   "cell_type": "markdown",
   "id": "a508bf20",
   "metadata": {},
   "source": []
  }
 ],
 "metadata": {
  "kernelspec": {
   "display_name": "Python 3 (ipykernel)",
   "language": "python",
   "name": "python3"
  },
  "language_info": {
   "codemirror_mode": {
    "name": "ipython",
    "version": 3
   },
   "file_extension": ".py",
   "mimetype": "text/x-python",
   "name": "python",
   "nbconvert_exporter": "python",
   "pygments_lexer": "ipython3",
   "version": "3.9.13"
  }
 },
 "nbformat": 4,
 "nbformat_minor": 5
}
