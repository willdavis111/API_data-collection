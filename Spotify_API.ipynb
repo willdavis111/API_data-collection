{
 "cells": [
  {
   "cell_type": "code",
   "execution_count": 92,
   "id": "c75360c6",
   "metadata": {},
   "outputs": [],
   "source": [
    "import base64\n",
    "import pandas as pd\n",
    "import requests\n",
    "import json\n",
    "import spotipy.util as util\n",
    "import spotipy\n",
    "import os\n",
    "import statistics as st"
   ]
  },
  {
   "cell_type": "code",
   "execution_count": 18,
   "id": "34e85286",
   "metadata": {},
   "outputs": [],
   "source": [
    "# import secrets for toke authenification \n",
    "import import_ipynb\n",
    "from spotify_secret import *"
   ]
  },
  {
   "cell_type": "code",
   "execution_count": 19,
   "id": "a99acf97",
   "metadata": {},
   "outputs": [],
   "source": [
    "# secrets\n",
    "library = my_library_path\n",
    "streams = my_streams_path"
   ]
  },
  {
   "cell_type": "code",
   "execution_count": 20,
   "id": "3e6751da",
   "metadata": {},
   "outputs": [],
   "source": [
    "# required information for a authentication token \n",
    "scopes = ['user-read-recently-played', 'playlist-modify-private']"
   ]
  },
  {
   "cell_type": "code",
   "execution_count": 157,
   "id": "03393df4",
   "metadata": {},
   "outputs": [],
   "source": [
    "# get access toke (tokens only last 1 hour)\n",
    "token = util.prompt_for_user_token(username=username, scope=scopes, client_id=client_id, client_secret=client_secret, redirect_uri=redirect_uri)\n",
    "sp = spotipy.Spotify(auth = token)"
   ]
  },
  {
   "cell_type": "code",
   "execution_count": 158,
   "id": "758587ba",
   "metadata": {},
   "outputs": [],
   "source": [
    "#header for all api interactions\n",
    "headers = {'Authorization': 'Bearer ' + token,'Content-Type': 'application/json',}\n",
    "# boilerplate json for playlist creation\n",
    "pl_name_data = {'name': '', 'description': 'New playlist description','public': False,}"
   ]
  },
  {
   "cell_type": "code",
   "execution_count": 23,
   "id": "33bc279a",
   "metadata": {},
   "outputs": [],
   "source": [
    "# URLS\n",
    "#recent\n",
    "spotify_url = 'https://api.spotify.com/v1/me/player/recently-played'\n",
    "#playlist\n",
    "playlist_url = f'https://api.spotify.com/v1/users/{username}/playlists'"
   ]
  },
  {
   "cell_type": "code",
   "execution_count": 41,
   "id": "245a59fe",
   "metadata": {},
   "outputs": [],
   "source": [
    "#paths for importing streamed songs files\n",
    "stream_paths = [os.path.join(streams, item) for item in os.listdir(streams)]"
   ]
  },
  {
   "cell_type": "code",
   "execution_count": 42,
   "id": "4cdf788c",
   "metadata": {},
   "outputs": [
    {
     "data": {
      "text/plain": [
       "['C:\\\\Users\\\\willd\\\\OneDrive\\\\Desktop\\\\DataAnalysis\\\\python data\\\\climate trends\\\\spotify data\\\\myStrams\\\\StreamingHistory0.json',\n",
       " 'C:\\\\Users\\\\willd\\\\OneDrive\\\\Desktop\\\\DataAnalysis\\\\python data\\\\climate trends\\\\spotify data\\\\myStrams\\\\StreamingHistory1.json']"
      ]
     },
     "execution_count": 42,
     "metadata": {},
     "output_type": "execute_result"
    }
   ],
   "source": [
    "stream_paths"
   ]
  },
  {
   "cell_type": "markdown",
   "id": "f314671d",
   "metadata": {},
   "source": [
    "### Recently played"
   ]
  },
  {
   "cell_type": "code",
   "execution_count": 6,
   "id": "05aa6360",
   "metadata": {},
   "outputs": [],
   "source": [
    "# recent tracks\n",
    "request = requests.get(url = spotify_url, headers=headers)\n",
    "recent = request.json()"
   ]
  },
  {
   "cell_type": "markdown",
   "id": "e687c64c",
   "metadata": {},
   "source": [
    "### My Data "
   ]
  },
  {
   "cell_type": "code",
   "execution_count": null,
   "id": "2c7b958a",
   "metadata": {},
   "outputs": [],
   "source": []
  },
  {
   "cell_type": "code",
   "execution_count": 43,
   "id": "c36d02a7",
   "metadata": {},
   "outputs": [],
   "source": [
    "# my library\n",
    "with open(library+r'\\YourLibrary.json') as json_data:\n",
    "    data = json.load(json_data)\n",
    "my_library = pd.DataFrame(data['tracks'])\n",
    "my_library['art_track'] = my_library['artist'] + my_library['track']"
   ]
  },
  {
   "cell_type": "code",
   "execution_count": 145,
   "id": "e0ac29fc",
   "metadata": {},
   "outputs": [],
   "source": [
    "# my listener history as a df \n",
    "list_of_df = []\n",
    "for file in stream_paths:\n",
    "    with open(file, encoding=\"utf8\") as stream_json:\n",
    "        stream_data = json.load(stream_json)\n",
    "        my_streams = pd.DataFrame(stream_data)\n",
    "        list_of_df.append(my_streams)\n",
    "full_streams = pd.concat(list_of_df)"
   ]
  },
  {
   "cell_type": "code",
   "execution_count": 146,
   "id": "4839d7a6",
   "metadata": {},
   "outputs": [],
   "source": [
    "my_full_streams = full_streams\n",
    "full_streams['endTime'] = pd.to_datetime(full_streams['endTime'])\n",
    "my_full_streams['msPlayed'] = (my_full_streams['msPlayed'] / 1000)\n",
    "my_full_streams = my_full_streams.rename(columns={'msPlayed' : 'Secs_played'})\n",
    "#remove quickly skipped songs\n",
    "my_full_streams = my_full_streams[my_full_streams['Secs_played'] > 8]\n",
    "my_full_streams['art_track'] = my_full_streams['artistName'] + my_full_streams['trackName']\n",
    "my_full_streams['endTime'] = pd.DatetimeIndex(my_full_streams['endTime']).year\n",
    "my_full_streams['count'] = my_full_streams.groupby('art_track')['art_track'].transform('count')\n",
    "# the year the track was played the most\n",
    "my_full_streams['year'] = my_full_streams.groupby('art_track')['endTime'].transform(lambda x: st.mode(x))"
   ]
  },
  {
   "cell_type": "code",
   "execution_count": 124,
   "id": "28e350a8",
   "metadata": {},
   "outputs": [],
   "source": []
  },
  {
   "cell_type": "code",
   "execution_count": 130,
   "id": "36555b22",
   "metadata": {},
   "outputs": [
    {
     "data": {
      "text/plain": [
       "{2022, 2023}"
      ]
     },
     "execution_count": 130,
     "metadata": {},
     "output_type": "execute_result"
    }
   ],
   "source": [
    "# all years from data set for playlist specification\n",
    "years = set(list(my_full_streams['year']))\n",
    "years"
   ]
  },
  {
   "cell_type": "code",
   "execution_count": 147,
   "id": "14cafad4",
   "metadata": {},
   "outputs": [],
   "source": [
    "no_skips = no_skips[['trackName','artistName', 'art_track', 'year', 'count']]\n",
    "no_skips = no_skips.drop_duplicates()\n",
    "over_five = no_skips[no_skips['count'] >= 5]"
   ]
  },
  {
   "cell_type": "code",
   "execution_count": 148,
   "id": "045d647c",
   "metadata": {},
   "outputs": [
    {
     "data": {
      "text/plain": [
       "(901, 5)"
      ]
     },
     "execution_count": 148,
     "metadata": {},
     "output_type": "execute_result"
    }
   ],
   "source": [
    "over_five.shape"
   ]
  },
  {
   "cell_type": "code",
   "execution_count": 149,
   "id": "46e0addd",
   "metadata": {},
   "outputs": [],
   "source": [
    "not_liked = over_five[~over_five['art_track'].isin(my_library['art_track'])]"
   ]
  },
  {
   "cell_type": "code",
   "execution_count": 150,
   "id": "b7bf1c7a",
   "metadata": {},
   "outputs": [
    {
     "data": {
      "text/plain": [
       "(201, 5)"
      ]
     },
     "execution_count": 150,
     "metadata": {},
     "output_type": "execute_result"
    }
   ],
   "source": [
    "not_liked.shape"
   ]
  },
  {
   "cell_type": "code",
   "execution_count": 151,
   "id": "82879a98",
   "metadata": {},
   "outputs": [],
   "source": [
    "not_liked = not_liked.reset_index(drop=True)"
   ]
  },
  {
   "cell_type": "code",
   "execution_count": 152,
   "id": "188d9590",
   "metadata": {},
   "outputs": [],
   "source": [
    "not_liked['uri'] = ''"
   ]
  },
  {
   "cell_type": "code",
   "execution_count": 159,
   "id": "8e5167e2",
   "metadata": {},
   "outputs": [],
   "source": [
    "for i in range(0, len(not_liked)):\n",
    "    not_liked.loc[i,'uri'] = get_uri(not_liked.loc[i,'trackName'], not_liked.loc[i,'artistName'])"
   ]
  },
  {
   "cell_type": "code",
   "execution_count": 160,
   "id": "22f6123a",
   "metadata": {},
   "outputs": [],
   "source": [
    "liked_not_liked = list(not_liked['uri'])"
   ]
  },
  {
   "cell_type": "code",
   "execution_count": 164,
   "id": "cfdd6ebc",
   "metadata": {},
   "outputs": [
    {
     "data": {
      "text/plain": [
       "201"
      ]
     },
     "execution_count": 164,
     "metadata": {},
     "output_type": "execute_result"
    }
   ],
   "source": [
    "len(liked_not_liked)"
   ]
  },
  {
   "cell_type": "code",
   "execution_count": 169,
   "id": "7a8155fa",
   "metadata": {},
   "outputs": [],
   "source": [
    "liked_not_liked= list(set(liked_not_liked))"
   ]
  },
  {
   "cell_type": "code",
   "execution_count": 170,
   "id": "508c745f",
   "metadata": {},
   "outputs": [],
   "source": [
    "list1 = liked_not_liked[0:80]\n",
    "list2 = liked_not_liked[80:160]\n",
    "list3 = liked_not_liked[160:]"
   ]
  },
  {
   "cell_type": "markdown",
   "id": "1e81715b",
   "metadata": {},
   "source": [
    "### Feature analysis"
   ]
  },
  {
   "cell_type": "code",
   "execution_count": 33,
   "id": "b71b04ce",
   "metadata": {},
   "outputs": [],
   "source": [
    "# get track features\n",
    "features = sp.audio_features(uris_list)"
   ]
  },
  {
   "cell_type": "code",
   "execution_count": 32,
   "id": "e2c071f7",
   "metadata": {},
   "outputs": [],
   "source": [
    "# make features df\n",
    "feature_df = pd.DataFrame.from_records(features)\n",
    "#join to reduced df\n",
    "full_df = reduced_df.join(feature_df.set_index('uri'), on='uri')"
   ]
  },
  {
   "cell_type": "code",
   "execution_count": null,
   "id": "89b7e936",
   "metadata": {},
   "outputs": [],
   "source": []
  },
  {
   "cell_type": "code",
   "execution_count": null,
   "id": "5b8bf9ba",
   "metadata": {},
   "outputs": [],
   "source": []
  },
  {
   "cell_type": "markdown",
   "id": "5a9e73ed",
   "metadata": {},
   "source": [
    "### Get required track information"
   ]
  },
  {
   "cell_type": "code",
   "execution_count": 156,
   "id": "4bc27db2",
   "metadata": {},
   "outputs": [],
   "source": [
    "def get_uri(track, artist):\n",
    "    qq = f\"\"\n",
    "    search_song = sp.search(q=f'track: {track} artist: {artist}', type='track')\n",
    "    track_uri=search_song['tracks']['items'][0]['uri']\n",
    "    return track_uri"
   ]
  },
  {
   "cell_type": "code",
   "execution_count": 205,
   "id": "f68134d1",
   "metadata": {},
   "outputs": [],
   "source": [
    "search_song=sp.search(q='track: Bad Dreams artist: Lyrics Born', type='track')"
   ]
  },
  {
   "cell_type": "code",
   "execution_count": 196,
   "id": "580587e8",
   "metadata": {},
   "outputs": [],
   "source": [
    "# for option in search_song['tracks']['items']:\n",
    "#     if option['artists'][0]['name'] == 'Lyrics Born':\n",
    "#         track_uri = option['uri']\n",
    "        "
   ]
  },
  {
   "cell_type": "markdown",
   "id": "490c49bf",
   "metadata": {},
   "source": [
    "### Playlist Creation & Modification "
   ]
  },
  {
   "cell_type": "code",
   "execution_count": 154,
   "id": "132d38df",
   "metadata": {},
   "outputs": [],
   "source": [
    "# function to create playlist and return playlist id for modification\n",
    "def new_playlist(playlist_name):\n",
    "    global pl_id\n",
    "    pl_name_data['name'] = playlist_name\n",
    "    playlist_created = requests.post(playlist_url, headers=headers, json=pl_name_data)\n",
    "    pl_obj = playlist_created.json()\n",
    "    pl_id = pl_obj['id']"
   ]
  },
  {
   "cell_type": "code",
   "execution_count": 155,
   "id": "a24fe219",
   "metadata": {},
   "outputs": [],
   "source": [
    "# function to update created plalists (only accepts lists of uris < 100)\n",
    "def mod_playlist(pl_id, pl_uris):\n",
    "    sp.playlist_add_items(pl_id, pl_uris, position=None)"
   ]
  },
  {
   "cell_type": "code",
   "execution_count": null,
   "id": "aaf562f2",
   "metadata": {},
   "outputs": [],
   "source": []
  },
  {
   "cell_type": "code",
   "execution_count": 171,
   "id": "c49a94b3",
   "metadata": {},
   "outputs": [],
   "source": [
    "# call function to create playlist\n",
    "new_playlist('test 2')"
   ]
  },
  {
   "cell_type": "code",
   "execution_count": 172,
   "id": "72ca7a46",
   "metadata": {},
   "outputs": [],
   "source": [
    "# call function to add to newly created playlist \n",
    "mod_playlist(pl_id, list1)\n",
    "mod_playlist(pl_id, list2)\n",
    "mod_playlist(pl_id, list3)"
   ]
  },
  {
   "cell_type": "code",
   "execution_count": null,
   "id": "81e78823",
   "metadata": {},
   "outputs": [],
   "source": []
  },
  {
   "cell_type": "code",
   "execution_count": null,
   "id": "8ab20aac",
   "metadata": {},
   "outputs": [],
   "source": []
  },
  {
   "cell_type": "code",
   "execution_count": null,
   "id": "ed0548d9",
   "metadata": {},
   "outputs": [],
   "source": []
  }
 ],
 "metadata": {
  "kernelspec": {
   "display_name": "Python 3 (ipykernel)",
   "language": "python",
   "name": "python3"
  },
  "language_info": {
   "codemirror_mode": {
    "name": "ipython",
    "version": 3
   },
   "file_extension": ".py",
   "mimetype": "text/x-python",
   "name": "python",
   "nbconvert_exporter": "python",
   "pygments_lexer": "ipython3",
   "version": "3.9.13"
  }
 },
 "nbformat": 4,
 "nbformat_minor": 5
}
