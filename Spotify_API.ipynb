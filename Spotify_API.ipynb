{
 "cells": [
  {
   "cell_type": "code",
   "execution_count": 1,
   "id": "c75360c6",
   "metadata": {},
   "outputs": [],
   "source": [
    "import base64\n",
    "import pandas as pd\n",
    "import requests\n",
    "import json\n",
    "import spotipy.util as util\n",
    "import spotipy"
   ]
  },
  {
   "cell_type": "markdown",
   "id": "6365ac95",
   "metadata": {},
   "source": [
    "### Recently played"
   ]
  },
  {
   "cell_type": "code",
   "execution_count": 44,
   "id": "34e85286",
   "metadata": {},
   "outputs": [],
   "source": [
    "import import_ipynb\n",
    "from spotify_secret import *"
   ]
  },
  {
   "cell_type": "code",
   "execution_count": 2,
   "id": "3e6751da",
   "metadata": {},
   "outputs": [],
   "source": [
    "# required information for a authentication token \n",
    "\n",
    "scopes = ['user-read-recently-played', 'playlist-modify-private']"
   ]
  },
  {
   "cell_type": "code",
   "execution_count": 3,
   "id": "03393df4",
   "metadata": {},
   "outputs": [],
   "source": [
    "# get access toke (tokens only last 1 hour)\n",
    "token = util.prompt_for_user_token(username=username, \n",
    "                                   scope=scopes, \n",
    "                                   client_id=client_id,   \n",
    "                                   client_secret=client_secret,     \n",
    "                                   redirect_uri=redirect_uri)"
   ]
  },
  {
   "cell_type": "code",
   "execution_count": 4,
   "id": "a8102f74",
   "metadata": {},
   "outputs": [],
   "source": [
    "# url for recently played\n",
    "spotify_url = 'https://api.spotify.com/v1/me/player/recently-played'\n",
    "#header for all api interactions\n",
    "headers = {\n",
    "    'Authorization': 'Bearer ' + token,\n",
    "    'Content-Type': 'application/json',\n",
    "}"
   ]
  },
  {
   "cell_type": "code",
   "execution_count": 5,
   "id": "05aa6360",
   "metadata": {},
   "outputs": [],
   "source": [
    "# recent tracks\n",
    "request = requests.get(url = spotify_url, headers=headers)\n",
    "recent = request.json()"
   ]
  },
  {
   "cell_type": "code",
   "execution_count": 6,
   "id": "8714de8a",
   "metadata": {},
   "outputs": [],
   "source": [
    "tracks = []\n",
    "for item in recent['items']:\n",
    "    tracks.append(item['track'])"
   ]
  },
  {
   "cell_type": "code",
   "execution_count": 44,
   "id": "689505e1",
   "metadata": {},
   "outputs": [
    {
     "data": {
      "text/html": [
       "<div>\n",
       "<style scoped>\n",
       "    .dataframe tbody tr th:only-of-type {\n",
       "        vertical-align: middle;\n",
       "    }\n",
       "\n",
       "    .dataframe tbody tr th {\n",
       "        vertical-align: top;\n",
       "    }\n",
       "\n",
       "    .dataframe thead th {\n",
       "        text-align: right;\n",
       "    }\n",
       "</style>\n",
       "<table border=\"1\" class=\"dataframe\">\n",
       "  <thead>\n",
       "    <tr style=\"text-align: right;\">\n",
       "      <th></th>\n",
       "      <th>album</th>\n",
       "      <th>artists</th>\n",
       "      <th>available_markets</th>\n",
       "      <th>disc_number</th>\n",
       "      <th>duration_ms</th>\n",
       "      <th>explicit</th>\n",
       "      <th>external_ids</th>\n",
       "      <th>external_urls</th>\n",
       "      <th>href</th>\n",
       "      <th>id</th>\n",
       "      <th>is_local</th>\n",
       "      <th>name</th>\n",
       "      <th>popularity</th>\n",
       "      <th>preview_url</th>\n",
       "      <th>track_number</th>\n",
       "      <th>type</th>\n",
       "      <th>uri</th>\n",
       "    </tr>\n",
       "  </thead>\n",
       "  <tbody>\n",
       "    <tr>\n",
       "      <th>0</th>\n",
       "      <td>{'album_type': 'compilation', 'artists': [{'ex...</td>\n",
       "      <td>[{'external_urls': {'spotify': 'https://open.s...</td>\n",
       "      <td>[AR, AU, AT, BE, BO, BR, BG, CA, CL, CO, CR, C...</td>\n",
       "      <td>1</td>\n",
       "      <td>337266</td>\n",
       "      <td>False</td>\n",
       "      <td>{'isrc': 'USPR38530022'}</td>\n",
       "      <td>{'spotify': 'https://open.spotify.com/track/3N...</td>\n",
       "      <td>https://api.spotify.com/v1/tracks/3N7GqZMpZJW6...</td>\n",
       "      <td>3N7GqZMpZJW69Te1bfUTc3</td>\n",
       "      <td>False</td>\n",
       "      <td>Obsession</td>\n",
       "      <td>57</td>\n",
       "      <td>https://p.scdn.co/mp3-preview/cb9cba07de587226...</td>\n",
       "      <td>1</td>\n",
       "      <td>track</td>\n",
       "      <td>spotify:track:3N7GqZMpZJW69Te1bfUTc3</td>\n",
       "    </tr>\n",
       "    <tr>\n",
       "      <th>1</th>\n",
       "      <td>{'album_type': 'compilation', 'artists': [{'ex...</td>\n",
       "      <td>[{'external_urls': {'spotify': 'https://open.s...</td>\n",
       "      <td>[AR, AU, AT, BE, BO, BR, BG, CA, CL, CO, CR, C...</td>\n",
       "      <td>1</td>\n",
       "      <td>337266</td>\n",
       "      <td>False</td>\n",
       "      <td>{'isrc': 'USPR38530022'}</td>\n",
       "      <td>{'spotify': 'https://open.spotify.com/track/3N...</td>\n",
       "      <td>https://api.spotify.com/v1/tracks/3N7GqZMpZJW6...</td>\n",
       "      <td>3N7GqZMpZJW69Te1bfUTc3</td>\n",
       "      <td>False</td>\n",
       "      <td>Obsession</td>\n",
       "      <td>57</td>\n",
       "      <td>https://p.scdn.co/mp3-preview/cb9cba07de587226...</td>\n",
       "      <td>1</td>\n",
       "      <td>track</td>\n",
       "      <td>spotify:track:3N7GqZMpZJW69Te1bfUTc3</td>\n",
       "    </tr>\n",
       "  </tbody>\n",
       "</table>\n",
       "</div>"
      ],
      "text/plain": [
       "                                               album  \\\n",
       "0  {'album_type': 'compilation', 'artists': [{'ex...   \n",
       "1  {'album_type': 'compilation', 'artists': [{'ex...   \n",
       "\n",
       "                                             artists  \\\n",
       "0  [{'external_urls': {'spotify': 'https://open.s...   \n",
       "1  [{'external_urls': {'spotify': 'https://open.s...   \n",
       "\n",
       "                                   available_markets  disc_number  \\\n",
       "0  [AR, AU, AT, BE, BO, BR, BG, CA, CL, CO, CR, C...            1   \n",
       "1  [AR, AU, AT, BE, BO, BR, BG, CA, CL, CO, CR, C...            1   \n",
       "\n",
       "   duration_ms  explicit              external_ids  \\\n",
       "0       337266     False  {'isrc': 'USPR38530022'}   \n",
       "1       337266     False  {'isrc': 'USPR38530022'}   \n",
       "\n",
       "                                       external_urls  \\\n",
       "0  {'spotify': 'https://open.spotify.com/track/3N...   \n",
       "1  {'spotify': 'https://open.spotify.com/track/3N...   \n",
       "\n",
       "                                                href                      id  \\\n",
       "0  https://api.spotify.com/v1/tracks/3N7GqZMpZJW6...  3N7GqZMpZJW69Te1bfUTc3   \n",
       "1  https://api.spotify.com/v1/tracks/3N7GqZMpZJW6...  3N7GqZMpZJW69Te1bfUTc3   \n",
       "\n",
       "   is_local       name  popularity  \\\n",
       "0     False  Obsession          57   \n",
       "1     False  Obsession          57   \n",
       "\n",
       "                                         preview_url  track_number   type  \\\n",
       "0  https://p.scdn.co/mp3-preview/cb9cba07de587226...             1  track   \n",
       "1  https://p.scdn.co/mp3-preview/cb9cba07de587226...             1  track   \n",
       "\n",
       "                                    uri  \n",
       "0  spotify:track:3N7GqZMpZJW69Te1bfUTc3  \n",
       "1  spotify:track:3N7GqZMpZJW69Te1bfUTc3  "
      ]
     },
     "execution_count": 44,
     "metadata": {},
     "output_type": "execute_result"
    }
   ],
   "source": [
    "df = pd.DataFrame.from_records(tracks)\n",
    "df.head(2)"
   ]
  },
  {
   "cell_type": "code",
   "execution_count": 45,
   "id": "d1408b7b",
   "metadata": {},
   "outputs": [
    {
     "data": {
      "text/html": [
       "<div>\n",
       "<style scoped>\n",
       "    .dataframe tbody tr th:only-of-type {\n",
       "        vertical-align: middle;\n",
       "    }\n",
       "\n",
       "    .dataframe tbody tr th {\n",
       "        vertical-align: top;\n",
       "    }\n",
       "\n",
       "    .dataframe thead th {\n",
       "        text-align: right;\n",
       "    }\n",
       "</style>\n",
       "<table border=\"1\" class=\"dataframe\">\n",
       "  <thead>\n",
       "    <tr style=\"text-align: right;\">\n",
       "      <th></th>\n",
       "      <th>name</th>\n",
       "      <th>uri</th>\n",
       "    </tr>\n",
       "  </thead>\n",
       "  <tbody>\n",
       "    <tr>\n",
       "      <th>0</th>\n",
       "      <td>Obsession</td>\n",
       "      <td>spotify:track:3N7GqZMpZJW69Te1bfUTc3</td>\n",
       "    </tr>\n",
       "    <tr>\n",
       "      <th>1</th>\n",
       "      <td>Obsession</td>\n",
       "      <td>spotify:track:3N7GqZMpZJW69Te1bfUTc3</td>\n",
       "    </tr>\n",
       "    <tr>\n",
       "      <th>2</th>\n",
       "      <td>Don't You Evah</td>\n",
       "      <td>spotify:track:3UytFqZuZwJFsTPti5gcPB</td>\n",
       "    </tr>\n",
       "  </tbody>\n",
       "</table>\n",
       "</div>"
      ],
      "text/plain": [
       "             name                                   uri\n",
       "0       Obsession  spotify:track:3N7GqZMpZJW69Te1bfUTc3\n",
       "1       Obsession  spotify:track:3N7GqZMpZJW69Te1bfUTc3\n",
       "2  Don't You Evah  spotify:track:3UytFqZuZwJFsTPti5gcPB"
      ]
     },
     "execution_count": 45,
     "metadata": {},
     "output_type": "execute_result"
    }
   ],
   "source": [
    "df[['name', 'uri']].head(3)"
   ]
  },
  {
   "cell_type": "code",
   "execution_count": 15,
   "id": "7a0c5de6",
   "metadata": {},
   "outputs": [
    {
     "data": {
      "text/plain": [
       "['spotify:track:3N7GqZMpZJW69Te1bfUTc3',\n",
       " 'spotify:track:3N7GqZMpZJW69Te1bfUTc3',\n",
       " 'spotify:track:3UytFqZuZwJFsTPti5gcPB',\n",
       " 'spotify:track:4dyx5SzxPPaD8xQIid5Wjj',\n",
       " 'spotify:track:6HRnAZhj0KTqQ4TTzPkENH',\n",
       " 'spotify:track:5354TkqoLgY6C6wnf7dLYK',\n",
       " 'spotify:track:3sEQf5AuiphddGXRIWBcO9',\n",
       " 'spotify:track:0AC2dY7wLNgOb5MR3RDMWb',\n",
       " 'spotify:track:3NyovXfcpc8PDWWKH7xEDs',\n",
       " 'spotify:track:03bb523ftjpUYqoBjTsFG3',\n",
       " 'spotify:track:5Ext9ObPEi7wIcv5AiQWJy',\n",
       " 'spotify:track:2jUfLr32m2y9XVuHSJfj98',\n",
       " 'spotify:track:3AydAydLzyyZutA0375XIz',\n",
       " 'spotify:track:0OX9lzZxKlbtn3c2d97uqz',\n",
       " 'spotify:track:7gChGUkqWkinDS7uYoMLIM',\n",
       " 'spotify:track:766EIreId79ZFBkiDO1Ial',\n",
       " 'spotify:track:6B7EsHthpevK46gAsSPXb3',\n",
       " 'spotify:track:3UytFqZuZwJFsTPti5gcPB',\n",
       " 'spotify:track:0YPuRrM2NwzdtuShUKkts6',\n",
       " 'spotify:track:4Wrc3Jz4POj0ibPj5iuq0r']"
      ]
     },
     "execution_count": 15,
     "metadata": {},
     "output_type": "execute_result"
    }
   ],
   "source": [
    "# max of 100 songs can be passed \n",
    "uris_list = list(df['uri'])\n",
    "uris_list"
   ]
  },
  {
   "cell_type": "code",
   "execution_count": null,
   "id": "359998aa",
   "metadata": {},
   "outputs": [],
   "source": []
  },
  {
   "cell_type": "markdown",
   "id": "5a9e73ed",
   "metadata": {},
   "source": [
    "### Get required information"
   ]
  },
  {
   "cell_type": "code",
   "execution_count": null,
   "id": "b20d2f65",
   "metadata": {},
   "outputs": [],
   "source": [
    "# "
   ]
  },
  {
   "cell_type": "code",
   "execution_count": null,
   "id": "d9faf179",
   "metadata": {},
   "outputs": [],
   "source": []
  },
  {
   "cell_type": "code",
   "execution_count": null,
   "id": "2f197253",
   "metadata": {},
   "outputs": [],
   "source": []
  },
  {
   "cell_type": "markdown",
   "id": "490c49bf",
   "metadata": {},
   "source": [
    "### Playlist Creation & Modification "
   ]
  },
  {
   "cell_type": "code",
   "execution_count": 36,
   "id": "132d38df",
   "metadata": {},
   "outputs": [],
   "source": [
    "# url for playlist api\n",
    "playlist_url = 'https://api.spotify.com/v1/users/willdavis111/playlists'\n",
    "# boilerplate json for playlist creation\n",
    "pl_name_data = {'name': '', 'description': 'New playlist description','public': False,}\n",
    "# function to create playlist and return playlist id for modification\n",
    "def new_playlist(playlist_name):\n",
    "    global pl_id\n",
    "    pl_name_data['name'] = playlist_name\n",
    "    playlist_created = requests.post(playlist_url, headers=headers, json=pl_name_data)\n",
    "    pl_obj = playlist_created.json()\n",
    "    pl_id = pl_obj['id']"
   ]
  },
  {
   "cell_type": "code",
   "execution_count": 41,
   "id": "a24fe219",
   "metadata": {},
   "outputs": [],
   "source": [
    "# token for authentication\n",
    "sp = spotipy.Spotify(auth = token)\n",
    "# function to update created plalists (only accepts lists of uris < 100)\n",
    "def mod_playlist(pl_id, pl_uris):\n",
    "    sp.playlist_add_items(pl_id, uris_list, position=None)"
   ]
  },
  {
   "cell_type": "code",
   "execution_count": null,
   "id": "aaf562f2",
   "metadata": {},
   "outputs": [],
   "source": []
  },
  {
   "cell_type": "code",
   "execution_count": 37,
   "id": "c49a94b3",
   "metadata": {},
   "outputs": [],
   "source": [
    "# call function to create playlist\n",
    "new_playlist('old')"
   ]
  },
  {
   "cell_type": "code",
   "execution_count": 42,
   "id": "72ca7a46",
   "metadata": {},
   "outputs": [],
   "source": [
    "# call function to add to newly created playlist \n",
    "mod_playlist(pl_id, uris_list)"
   ]
  },
  {
   "cell_type": "code",
   "execution_count": null,
   "id": "81e78823",
   "metadata": {},
   "outputs": [],
   "source": []
  },
  {
   "cell_type": "code",
   "execution_count": null,
   "id": "8ab20aac",
   "metadata": {},
   "outputs": [],
   "source": []
  },
  {
   "cell_type": "code",
   "execution_count": null,
   "id": "ed0548d9",
   "metadata": {},
   "outputs": [],
   "source": []
  }
 ],
 "metadata": {
  "kernelspec": {
   "display_name": "Python 3 (ipykernel)",
   "language": "python",
   "name": "python3"
  },
  "language_info": {
   "codemirror_mode": {
    "name": "ipython",
    "version": 3
   },
   "file_extension": ".py",
   "mimetype": "text/x-python",
   "name": "python",
   "nbconvert_exporter": "python",
   "pygments_lexer": "ipython3",
   "version": "3.9.13"
  }
 },
 "nbformat": 4,
 "nbformat_minor": 5
}
