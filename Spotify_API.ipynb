{
 "cells": [
  {
   "cell_type": "code",
   "execution_count": 1,
   "id": "c75360c6",
   "metadata": {},
   "outputs": [],
   "source": [
    "import base64\n",
    "import pandas as pd\n",
    "import requests\n",
    "import json\n",
    "import spotipy.util as util\n",
    "import spotipy"
   ]
  },
  {
   "cell_type": "code",
   "execution_count": 2,
   "id": "34e85286",
   "metadata": {},
   "outputs": [
    {
     "name": "stdout",
     "output_type": "stream",
     "text": [
      "importing Jupyter notebook from spotify_secret.ipynb\n"
     ]
    }
   ],
   "source": [
    "# import secrets for toke authenification \n",
    "import import_ipynb\n",
    "from spotify_secret import *"
   ]
  },
  {
   "cell_type": "code",
   "execution_count": 3,
   "id": "3e6751da",
   "metadata": {},
   "outputs": [],
   "source": [
    "# required information for a authentication token \n",
    "scopes = ['user-read-recently-played', 'playlist-modify-private']"
   ]
  },
  {
   "cell_type": "code",
   "execution_count": 291,
   "id": "03393df4",
   "metadata": {},
   "outputs": [],
   "source": [
    "# get access toke (tokens only last 1 hour)\n",
    "token = util.prompt_for_user_token(username=username, \n",
    "                                   scope=scopes, \n",
    "                                   client_id=client_id,   \n",
    "                                   client_secret=client_secret,     \n",
    "                                   redirect_uri=redirect_uri)\n",
    "sp = spotipy.Spotify(auth = token)"
   ]
  },
  {
   "cell_type": "markdown",
   "id": "f314671d",
   "metadata": {},
   "source": [
    "### Recently played"
   ]
  },
  {
   "cell_type": "code",
   "execution_count": 293,
   "id": "a8102f74",
   "metadata": {},
   "outputs": [],
   "source": [
    "# url for recently played\n",
    "spotify_url = 'https://api.spotify.com/v1/me/player/recently-played'\n",
    "#header for all api interactions\n",
    "headers = {\n",
    "    'Authorization': 'Bearer ' + token,\n",
    "    'Content-Type': 'application/json',\n",
    "}"
   ]
  },
  {
   "cell_type": "code",
   "execution_count": 6,
   "id": "05aa6360",
   "metadata": {},
   "outputs": [],
   "source": [
    "# recent tracks\n",
    "request = requests.get(url = spotify_url, headers=headers)\n",
    "recent = request.json()"
   ]
  },
  {
   "cell_type": "markdown",
   "id": "d87fdcd5",
   "metadata": {},
   "source": [
    "### My Data "
   ]
  },
  {
   "cell_type": "code",
   "execution_count": 268,
   "id": "b3a8097e",
   "metadata": {},
   "outputs": [],
   "source": [
    "# my library\n",
    "with open('YourLibrary.json') as json_data:\n",
    "    data = json.load(json_data)\n",
    "my_library = pd.DataFrame(data['tracks'])\n",
    "my_library['art_track'] = my_library['artist'] + my_library['track']"
   ]
  },
  {
   "cell_type": "code",
   "execution_count": 269,
   "id": "d32cae03",
   "metadata": {},
   "outputs": [],
   "source": [
    "# my listener history as a df \n",
    "files = ['StreamingHistory0.json', 'StreamingHistory1.json']\n",
    "list_of_df = []\n",
    "for file in files:\n",
    "    with open(file, encoding=\"utf8\") as stream_json:\n",
    "        stream_data = json.load(stream_json)\n",
    "        my_streams = pd.DataFrame(stream_data)\n",
    "        list_of_df.append(my_streams)\n",
    "full_streams = pd.concat(list_of_df)"
   ]
  },
  {
   "cell_type": "code",
   "execution_count": 270,
   "id": "13db1e7b",
   "metadata": {},
   "outputs": [],
   "source": [
    "my_full_streams = full_streams"
   ]
  },
  {
   "cell_type": "code",
   "execution_count": 271,
   "id": "e560b304",
   "metadata": {},
   "outputs": [
    {
     "data": {
      "text/html": [
       "<div>\n",
       "<style scoped>\n",
       "    .dataframe tbody tr th:only-of-type {\n",
       "        vertical-align: middle;\n",
       "    }\n",
       "\n",
       "    .dataframe tbody tr th {\n",
       "        vertical-align: top;\n",
       "    }\n",
       "\n",
       "    .dataframe thead th {\n",
       "        text-align: right;\n",
       "    }\n",
       "</style>\n",
       "<table border=\"1\" class=\"dataframe\">\n",
       "  <thead>\n",
       "    <tr style=\"text-align: right;\">\n",
       "      <th></th>\n",
       "      <th>endTime</th>\n",
       "      <th>artistName</th>\n",
       "      <th>trackName</th>\n",
       "      <th>Secs_played</th>\n",
       "      <th>art_track</th>\n",
       "    </tr>\n",
       "  </thead>\n",
       "  <tbody>\n",
       "    <tr>\n",
       "      <th>0</th>\n",
       "      <td>2022-06-11 23:03</td>\n",
       "      <td>Musical Youth</td>\n",
       "      <td>Pass The Dutchie</td>\n",
       "      <td>185.152</td>\n",
       "      <td>Musical YouthPass The Dutchie</td>\n",
       "    </tr>\n",
       "    <tr>\n",
       "      <th>1</th>\n",
       "      <td>2022-06-12 13:21</td>\n",
       "      <td>Doomtree</td>\n",
       "      <td>Slow Burn</td>\n",
       "      <td>236.592</td>\n",
       "      <td>DoomtreeSlow Burn</td>\n",
       "    </tr>\n",
       "    <tr>\n",
       "      <th>2</th>\n",
       "      <td>2022-06-12 13:24</td>\n",
       "      <td>Grieves</td>\n",
       "      <td>What It Dew</td>\n",
       "      <td>214.893</td>\n",
       "      <td>GrievesWhat It Dew</td>\n",
       "    </tr>\n",
       "    <tr>\n",
       "      <th>3</th>\n",
       "      <td>2022-06-12 13:28</td>\n",
       "      <td>Factor Chandelier</td>\n",
       "      <td>Feeling Inside</td>\n",
       "      <td>236.787</td>\n",
       "      <td>Factor ChandelierFeeling Inside</td>\n",
       "    </tr>\n",
       "    <tr>\n",
       "      <th>4</th>\n",
       "      <td>2022-06-12 13:31</td>\n",
       "      <td>GDP</td>\n",
       "      <td>Butter Scripts</td>\n",
       "      <td>185.560</td>\n",
       "      <td>GDPButter Scripts</td>\n",
       "    </tr>\n",
       "  </tbody>\n",
       "</table>\n",
       "</div>"
      ],
      "text/plain": [
       "            endTime         artistName         trackName  Secs_played  \\\n",
       "0  2022-06-11 23:03      Musical Youth  Pass The Dutchie      185.152   \n",
       "1  2022-06-12 13:21           Doomtree         Slow Burn      236.592   \n",
       "2  2022-06-12 13:24            Grieves       What It Dew      214.893   \n",
       "3  2022-06-12 13:28  Factor Chandelier    Feeling Inside      236.787   \n",
       "4  2022-06-12 13:31                GDP    Butter Scripts      185.560   \n",
       "\n",
       "                         art_track  \n",
       "0    Musical YouthPass The Dutchie  \n",
       "1                DoomtreeSlow Burn  \n",
       "2               GrievesWhat It Dew  \n",
       "3  Factor ChandelierFeeling Inside  \n",
       "4                GDPButter Scripts  "
      ]
     },
     "execution_count": 271,
     "metadata": {},
     "output_type": "execute_result"
    }
   ],
   "source": [
    "my_full_streams['msPlayed'] = (my_full_streams['msPlayed'] / 1000)\n",
    "my_full_streams = my_full_streams.rename(columns={'msPlayed' : 'Secs_played'})\n",
    "my_full_streams['art_track'] = my_full_streams['artistName'] + my_full_streams['trackName']\n",
    "my_full_streams.head(5)"
   ]
  },
  {
   "cell_type": "code",
   "execution_count": 272,
   "id": "82deeae2",
   "metadata": {},
   "outputs": [
    {
     "data": {
      "text/plain": [
       "(13695, 5)"
      ]
     },
     "execution_count": 272,
     "metadata": {},
     "output_type": "execute_result"
    }
   ],
   "source": [
    "my_full_streams.shape"
   ]
  },
  {
   "cell_type": "code",
   "execution_count": 273,
   "id": "8798b8fe",
   "metadata": {},
   "outputs": [
    {
     "data": {
      "text/plain": [
       "(7975, 5)"
      ]
     },
     "execution_count": 273,
     "metadata": {},
     "output_type": "execute_result"
    }
   ],
   "source": [
    "no_skips = my_full_streams[my_full_streams['Secs_played'] > 15]\n",
    "no_skips.shape"
   ]
  },
  {
   "cell_type": "code",
   "execution_count": 274,
   "id": "cd8ad3af",
   "metadata": {},
   "outputs": [],
   "source": [
    "freq_df = no_skips[['trackName','artistName', 'art_track']]"
   ]
  },
  {
   "cell_type": "code",
   "execution_count": 275,
   "id": "1733e284",
   "metadata": {},
   "outputs": [
    {
     "name": "stderr",
     "output_type": "stream",
     "text": [
      "C:\\Users\\willd\\AppData\\Local\\Temp\\ipykernel_10136\\454162367.py:1: SettingWithCopyWarning: \n",
      "A value is trying to be set on a copy of a slice from a DataFrame.\n",
      "Try using .loc[row_indexer,col_indexer] = value instead\n",
      "\n",
      "See the caveats in the documentation: https://pandas.pydata.org/pandas-docs/stable/user_guide/indexing.html#returning-a-view-versus-a-copy\n",
      "  freq_df['count'] = freq_df.groupby('art_track')['art_track'].transform('count')\n"
     ]
    }
   ],
   "source": [
    "freq_df['count'] = freq_df.groupby('art_track')['art_track'].transform('count')"
   ]
  },
  {
   "cell_type": "code",
   "execution_count": 276,
   "id": "96e1e766",
   "metadata": {},
   "outputs": [
    {
     "data": {
      "text/plain": [
       "(7975, 4)"
      ]
     },
     "execution_count": 276,
     "metadata": {},
     "output_type": "execute_result"
    }
   ],
   "source": [
    "freq_df.shape"
   ]
  },
  {
   "cell_type": "code",
   "execution_count": 277,
   "id": "a3c0a8a3",
   "metadata": {},
   "outputs": [
    {
     "data": {
      "text/plain": [
       "(3206, 4)"
      ]
     },
     "execution_count": 277,
     "metadata": {},
     "output_type": "execute_result"
    }
   ],
   "source": [
    "freq_df = freq_df.drop_duplicates()\n",
    "freq_df.shape"
   ]
  },
  {
   "cell_type": "code",
   "execution_count": 278,
   "id": "5b48ff32",
   "metadata": {},
   "outputs": [
    {
     "data": {
      "text/plain": [
       "(357, 4)"
      ]
     },
     "execution_count": 278,
     "metadata": {},
     "output_type": "execute_result"
    }
   ],
   "source": [
    "over_five = freq_df[freq_df['count'] >= 5]\n",
    "over_five.shape"
   ]
  },
  {
   "cell_type": "code",
   "execution_count": 279,
   "id": "583bca4e",
   "metadata": {},
   "outputs": [],
   "source": [
    "not_liked = over_five[~over_five['art_track'].isin(my_library['art_track'])]"
   ]
  },
  {
   "cell_type": "code",
   "execution_count": 280,
   "id": "632378fb",
   "metadata": {},
   "outputs": [],
   "source": [
    "not_liked = not_liked.reset_index(drop=True)"
   ]
  },
  {
   "cell_type": "code",
   "execution_count": 281,
   "id": "f30998cf",
   "metadata": {},
   "outputs": [],
   "source": [
    "not_liked['uri'] = ''\n",
    "# get_uri(sample1['trackName'], sample1['artistName'])"
   ]
  },
  {
   "cell_type": "code",
   "execution_count": 284,
   "id": "03ce1d49",
   "metadata": {},
   "outputs": [],
   "source": [
    "for i in range(0, len(not_liked)):\n",
    "    not_liked.loc[i,'uri'] = get_uri(not_liked.loc[i,'trackName'], not_liked.loc[i,'artistName'])"
   ]
  },
  {
   "cell_type": "code",
   "execution_count": 286,
   "id": "1d5ab976",
   "metadata": {},
   "outputs": [],
   "source": [
    "liked_not_liked = list(not_liked['uri'])"
   ]
  },
  {
   "cell_type": "code",
   "execution_count": 287,
   "id": "f466aa4f",
   "metadata": {},
   "outputs": [
    {
     "data": {
      "text/plain": [
       "['spotify:track:5w5vw9cokQ9s8dHQmQqLX4',\n",
       " 'spotify:track:4iKYe4neoybSn78i1AH7z7',\n",
       " 'spotify:track:7rYGZmhNJhsmVLjPidM1q8',\n",
       " 'spotify:track:6ey8aat11RgL4jYvC4lRAy',\n",
       " 'spotify:track:5CUC1EDq80dxXRIrRW1aWA',\n",
       " 'spotify:track:05cjQouqyDYG6F2NSNJL7E',\n",
       " 'spotify:track:7n3WO6ESKS1uCI9fgkGs66',\n",
       " 'spotify:track:4REjaHRPmVb7btssqChJSy',\n",
       " 'spotify:track:1EjzcBTVLV7ATtdsQwyV31',\n",
       " 'spotify:track:0PuRzQcyEUBegg5GIWf9no',\n",
       " 'spotify:track:0dPjbyTqlDkHhfp2amfcWG',\n",
       " 'spotify:track:27SjutLnh1PXRYDjmSDs78',\n",
       " 'spotify:track:0xxpfL0b31St9FGTBMgAVG',\n",
       " 'spotify:track:5gABUTybqevRxpFA9Bl2AT',\n",
       " 'spotify:track:3NMDFORx33jILYPnSP4Jcg',\n",
       " 'spotify:track:0ByKkm4qqcDPtC2cPWo1wE',\n",
       " 'spotify:track:4VgcZBaJAibMnZDEOBQB7O',\n",
       " 'spotify:track:2fClGossFdEdhjjeYceaN7',\n",
       " 'spotify:track:68qdRCldPQ0fPORJGtiyrI',\n",
       " 'spotify:track:561F1zqRwGPCTMRsLsXVtL',\n",
       " 'spotify:track:3q0wgJXeUkhq2jeZ9JS7KN',\n",
       " 'spotify:track:4HA2jo7wkMdN1lmLO6ryzE',\n",
       " 'spotify:track:1Nig8tnYHCBaBz7FPIR763',\n",
       " 'spotify:track:46A9awz7xtpDGNeNtaqWMh',\n",
       " 'spotify:track:4eKN8RPS06OHyk8dTdempU',\n",
       " 'spotify:track:43cOiuGlEBCFGvfNFTNVWo',\n",
       " 'spotify:track:4PeSzDoxAGEUpsmpP9bcCf',\n",
       " 'spotify:track:4P1ypKiVXhfFMbcEmtQ0Js',\n",
       " 'spotify:track:3VqHuw0wFlIHcIPWkhIbdQ',\n",
       " 'spotify:track:4P1ypKiVXhfFMbcEmtQ0Js',\n",
       " 'spotify:track:57i3M29DWoo7RDk0Tf0LZG',\n",
       " 'spotify:track:1U3BASc885MPCYOzYwOIpO',\n",
       " 'spotify:track:4KMsn9LgPCw1yBebPPVcuD',\n",
       " 'spotify:track:4rTQRRU0mNsE5MlouFLdbn',\n",
       " 'spotify:track:3LhcZzV7gLX5lZZeL0dyXH',\n",
       " 'spotify:track:4NAIQmjZHISqg5iEo760sk',\n",
       " 'spotify:track:2uxudaBcJamtfgvUjSDdkZ',\n",
       " 'spotify:track:3ZDzVMZoFTx1gMbQszGy6d',\n",
       " 'spotify:track:24QiGAygsjlQHVDZt4qMed',\n",
       " 'spotify:track:1LGvDKbk0qLtwXzyljS9H5',\n",
       " 'spotify:track:4c8TMfsKJIrRgCWs8LCEbQ',\n",
       " 'spotify:track:4P1ypKiVXhfFMbcEmtQ0Js',\n",
       " 'spotify:track:3omXshBamrREltcf24gYDC',\n",
       " 'spotify:track:2PeKCn8NSGQXAHONaCh3wB',\n",
       " 'spotify:track:2MVwrvjmcdt4MsYYLCYMt8',\n",
       " 'spotify:track:1pHP4JeQV9wDx87D6qH9hD',\n",
       " 'spotify:track:4prEPl61C8qZpeo3IkYSMl',\n",
       " 'spotify:track:2heBToLEB7odACQ3xwb32A',\n",
       " 'spotify:track:5RQsNib1m9Hxo2AIjJcdpK',\n",
       " 'spotify:track:7sO969CnGNCZ7kDravLtPO',\n",
       " 'spotify:track:4a2uqVlpRChHj32EjJLu7G',\n",
       " 'spotify:track:5LfDOTMc5zVt3RLvLkme3L',\n",
       " 'spotify:track:2NnlmzSeHsqBmgxAJXWeJ3',\n",
       " 'spotify:track:0e4GxC1u8gzQ98RrbQTiCn',\n",
       " 'spotify:track:6SYasTzcB2CZlJfkEO7ZrS',\n",
       " 'spotify:track:766EIreId79ZFBkiDO1Ial',\n",
       " 'spotify:track:3AydAydLzyyZutA0375XIz',\n",
       " 'spotify:track:3HdcqQpq7zb5GbEKBDY34p',\n",
       " 'spotify:track:4zWjHKeCkNcNUrSBPNIGkc',\n",
       " 'spotify:track:25ReFrIzAGtLGi2SIG4O3B',\n",
       " 'spotify:track:2Ws0W7n3eGt73Lze5XRQhL',\n",
       " 'spotify:track:5G1sTBGbZT5o4PNRc75RKI',\n",
       " 'spotify:track:5JbbvaybLOHy7xzRDfW5lC',\n",
       " 'spotify:track:09zDgbs5NQH1kKFXHppYhr',\n",
       " 'spotify:track:4dyx5SzxPPaD8xQIid5Wjj',\n",
       " 'spotify:track:7ExjADktafdICxh3O4aFn8',\n",
       " 'spotify:track:1tzPSule9WZ9B8SujHv8fp',\n",
       " 'spotify:track:2WgbFkQQswVVEWnyKnFo2q',\n",
       " 'spotify:track:0idjTHGhGRBdWTmsalq3tF',\n",
       " 'spotify:track:62F7kzym6ELiDCftrwnrOf',\n",
       " 'spotify:track:0YHHVezUoKC10MtiLUliqx',\n",
       " 'spotify:track:0w4m3Xp4svlIoyL94Zjlyd',\n",
       " 'spotify:track:4u0Xdy7BizHLrcPIf7c6h2',\n",
       " 'spotify:track:2eqZjTJh8BdWdnwRofaS17',\n",
       " 'spotify:track:0AC2dY7wLNgOb5MR3RDMWb',\n",
       " 'spotify:track:7yYKjc8k6UrqeBig0bDeFy',\n",
       " 'spotify:track:3RTUfvRgq3pYTf7XY0FIcS',\n",
       " 'spotify:track:1oar8gdDX5yHWzVstAHDav',\n",
       " 'spotify:track:3IvTwPCCjfZczCN2k4qPiH',\n",
       " 'spotify:track:5Ext9ObPEi7wIcv5AiQWJy',\n",
       " 'spotify:track:2r5seNRSheLITyH4cevy2O',\n",
       " 'spotify:track:61OQuSzsom6geFCA18JwO6',\n",
       " 'spotify:track:2HUZVffVPXvqnrml0gXggp',\n",
       " 'spotify:track:2HtAvH6jLsSvJGm4MLGmUF']"
      ]
     },
     "execution_count": 287,
     "metadata": {},
     "output_type": "execute_result"
    }
   ],
   "source": [
    "liked_not_liked"
   ]
  },
  {
   "cell_type": "markdown",
   "id": "1c6f0843",
   "metadata": {},
   "source": [
    "### Feature analysis"
   ]
  },
  {
   "cell_type": "code",
   "execution_count": 33,
   "id": "2bbd3760",
   "metadata": {},
   "outputs": [],
   "source": [
    "# get track features\n",
    "features = sp.audio_features(uris_list)"
   ]
  },
  {
   "cell_type": "code",
   "execution_count": 32,
   "id": "f65e08a8",
   "metadata": {},
   "outputs": [],
   "source": [
    "# make features df\n",
    "feature_df = pd.DataFrame.from_records(features)\n",
    "#join to reduced df\n",
    "full_df = reduced_df.join(feature_df.set_index('uri'), on='uri')"
   ]
  },
  {
   "cell_type": "code",
   "execution_count": null,
   "id": "d05a0cd4",
   "metadata": {},
   "outputs": [],
   "source": []
  },
  {
   "cell_type": "code",
   "execution_count": null,
   "id": "c99300ad",
   "metadata": {},
   "outputs": [],
   "source": []
  },
  {
   "cell_type": "code",
   "execution_count": null,
   "id": "359998aa",
   "metadata": {},
   "outputs": [],
   "source": [
    "# transform listener history\n"
   ]
  },
  {
   "cell_type": "markdown",
   "id": "5a9e73ed",
   "metadata": {},
   "source": [
    "### Get required track information"
   ]
  },
  {
   "cell_type": "code",
   "execution_count": 185,
   "id": "0fe3f2e5",
   "metadata": {},
   "outputs": [],
   "source": [
    "# function to get uris for df\n",
    "# def get_uri(track, artist):\n",
    "#     search_song = sp.search(q='track: ' + track, type='track')\n",
    "#     for option in search_song['tracks']['items']:\n",
    "#         if option['artists'][0]['name'] == artist:\n",
    "#             track_uri = option['uri']\n",
    "#             break\n",
    "#         else: \n",
    "#             track_uri = \"\"\n",
    "#     return track_uri"
   ]
  },
  {
   "cell_type": "code",
   "execution_count": 251,
   "id": "a426f8bc",
   "metadata": {},
   "outputs": [],
   "source": [
    "def get_uri(track, artist):\n",
    "    qq = f\"\"\n",
    "    search_song = sp.search(q=f'track: {track} artist: {artist}', type='track')\n",
    "    track_uri=search_song['tracks']['items'][0]['uri']\n",
    "    return track_uri"
   ]
  },
  {
   "cell_type": "code",
   "execution_count": 205,
   "id": "73f2ae41",
   "metadata": {},
   "outputs": [],
   "source": [
    "search_song=sp.search(q='track: Bad Dreams artist: Lyrics Born', type='track')"
   ]
  },
  {
   "cell_type": "code",
   "execution_count": 196,
   "id": "29854e3a",
   "metadata": {},
   "outputs": [],
   "source": [
    "# for option in search_song['tracks']['items']:\n",
    "#     if option['artists'][0]['name'] == 'Lyrics Born':\n",
    "#         track_uri = option['uri']\n",
    "        "
   ]
  },
  {
   "cell_type": "markdown",
   "id": "490c49bf",
   "metadata": {},
   "source": [
    "### Playlist Creation & Modification "
   ]
  },
  {
   "cell_type": "code",
   "execution_count": 289,
   "id": "132d38df",
   "metadata": {},
   "outputs": [],
   "source": [
    "# url for playlist api\n",
    "playlist_url = 'https://api.spotify.com/v1/users/willdavis111/playlists'\n",
    "# boilerplate json for playlist creation\n",
    "pl_name_data = {'name': '', 'description': 'New playlist description','public': False,}\n",
    "# function to create playlist and return playlist id for modification\n",
    "def new_playlist(playlist_name):\n",
    "    global pl_id\n",
    "    pl_name_data['name'] = playlist_name\n",
    "    playlist_created = requests.post(playlist_url, headers=headers, json=pl_name_data)\n",
    "    pl_obj = playlist_created.json()\n",
    "    pl_id = pl_obj['id']"
   ]
  },
  {
   "cell_type": "code",
   "execution_count": 110,
   "id": "a24fe219",
   "metadata": {},
   "outputs": [],
   "source": [
    "# token for authentication\n",
    "sp = spotipy.Spotify(auth = token)\n",
    "# function to update created plalists (only accepts lists of uris < 100)\n",
    "def mod_playlist(pl_id, pl_uris):\n",
    "    sp.playlist_add_items(pl_id, pl_uris, position=None)"
   ]
  },
  {
   "cell_type": "code",
   "execution_count": null,
   "id": "aaf562f2",
   "metadata": {},
   "outputs": [],
   "source": []
  },
  {
   "cell_type": "code",
   "execution_count": 294,
   "id": "c49a94b3",
   "metadata": {},
   "outputs": [],
   "source": [
    "# call function to create playlist\n",
    "new_playlist('Lost Tracks')"
   ]
  },
  {
   "cell_type": "code",
   "execution_count": 295,
   "id": "72ca7a46",
   "metadata": {},
   "outputs": [],
   "source": [
    "# call function to add to newly created playlist \n",
    "mod_playlist(pl_id, liked_not_liked)"
   ]
  },
  {
   "cell_type": "code",
   "execution_count": null,
   "id": "81e78823",
   "metadata": {},
   "outputs": [],
   "source": []
  },
  {
   "cell_type": "code",
   "execution_count": null,
   "id": "8ab20aac",
   "metadata": {},
   "outputs": [],
   "source": []
  },
  {
   "cell_type": "code",
   "execution_count": null,
   "id": "ed0548d9",
   "metadata": {},
   "outputs": [],
   "source": []
  }
 ],
 "metadata": {
  "kernelspec": {
   "display_name": "Python 3 (ipykernel)",
   "language": "python",
   "name": "python3"
  },
  "language_info": {
   "codemirror_mode": {
    "name": "ipython",
    "version": 3
   },
   "file_extension": ".py",
   "mimetype": "text/x-python",
   "name": "python",
   "nbconvert_exporter": "python",
   "pygments_lexer": "ipython3",
   "version": "3.9.13"
  }
 },
 "nbformat": 4,
 "nbformat_minor": 5
}
